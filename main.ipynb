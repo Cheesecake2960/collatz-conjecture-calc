{
  "nbformat": 4,
  "nbformat_minor": 0,
  "metadata": {
    "colab": {
      "provenance": [],
      "authorship_tag": "ABX9TyOfnOorhV/s0FWr+acz1vR9",
      "include_colab_link": true
    },
    "kernelspec": {
      "name": "python3",
      "display_name": "Python 3"
    },
    "language_info": {
      "name": "python"
    }
  },
  "cells": [
    {
      "cell_type": "markdown",
      "metadata": {
        "id": "view-in-github",
        "colab_type": "text"
      },
      "source": [
        "<a href=\"https://colab.research.google.com/github/Cheesecake2960/collatz-conjecture-calc/blob/main/main.ipynb\" target=\"_parent\"><img src=\"https://colab.research.google.com/assets/colab-badge.svg\" alt=\"Open In Colab\"/></a>"
      ]
    },
    {
      "cell_type": "code",
      "execution_count": null,
      "metadata": {
        "id": "EwTWfaER-hwv"
      },
      "outputs": [],
      "source": [
        "try:\n",
        "  target = save = int(input('Please enter number! > '))\n",
        "  while not save == 1:\n",
        "    if save % 2 == 1:\n",
        "      save = save * 3 + 1\n",
        "    else:\n",
        "      save = save // 2\n",
        "    print(save)\n",
        "  print(f'target:{target} clear!')\n",
        "except:\n",
        "  print('It\\'s not number!')"
      ]
    }
  ]
}