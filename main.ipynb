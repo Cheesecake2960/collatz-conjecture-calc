try:
  target = save = int(input('Please enter number! > '))
  while not save == 1:
    if save % 2 == 1:
      save = save * 3 + 1
    else:
      save = save // 2
    print(save)
  print(f'target:{target} clear!')
except:
  print('It\'s not number!')
